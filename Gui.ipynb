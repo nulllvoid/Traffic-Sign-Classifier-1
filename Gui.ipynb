{
 "metadata": {
  "language_info": {
   "codemirror_mode": {
    "name": "ipython",
    "version": 3
   },
   "file_extension": ".py",
   "mimetype": "text/x-python",
   "name": "python",
   "nbconvert_exporter": "python",
   "pygments_lexer": "ipython3",
   "version": "3.8.8"
  },
  "orig_nbformat": 2,
  "kernelspec": {
   "name": "python3",
   "display_name": "Python 3.8.8 64-bit ('base': conda)"
  },
  "interpreter": {
   "hash": "24e81c3c0cf335d0d543109379ae453fc748055891ae9969476886f28ca73282"
  }
 },
 "nbformat": 4,
 "nbformat_minor": 2,
 "cells": [
  {
   "cell_type": "code",
   "execution_count": 1,
   "source": [
    "import tkinter as tk\r\n",
    "from tkinter import filedialog\r\n",
    "from tkinter import *\r\n",
    "from PIL import ImageTk, Image\r\n",
    "import numpy\r\n",
    "import tensorflow as tf"
   ],
   "outputs": [],
   "metadata": {}
  },
  {
   "cell_type": "markdown",
   "source": [
    "# Load the trained model to classify sign"
   ],
   "metadata": {}
  },
  {
   "cell_type": "code",
   "execution_count": 2,
   "source": [
    "model = tf.keras.models.load_model('Traffic Sign Classifier.h5' , custom_objects=None, compile=True, options=None)\r\n"
   ],
   "outputs": [],
   "metadata": {}
  },
  {
   "cell_type": "markdown",
   "source": [
    "# Dictionary to label all traffic signs class."
   ],
   "metadata": {}
  },
  {
   "cell_type": "code",
   "execution_count": 3,
   "source": [
    "classes = { 1:'Speed limit (20km/h)',\r\n",
    "            2:'Speed limit (30km/h)', \r\n",
    "            3:'Speed limit (50km/h)', \r\n",
    "            4:'Speed limit (60km/h)', \r\n",
    "            5:'Speed limit (70km/h)', \r\n",
    "            6:'Speed limit (80km/h)', \r\n",
    "            7:'End of speed limit (80km/h)', \r\n",
    "            8:'Speed limit (100km/h)', \r\n",
    "            9:'Speed limit (120km/h)', \r\n",
    "            10:'No passing', \r\n",
    "            11:'No passing veh over 3.5 tons', \r\n",
    "            12:'Right-of-way at intersection', \r\n",
    "            13:'Priority road', \r\n",
    "            14:'Yield', \r\n",
    "            15:'Stop', \r\n",
    "            16:'No vehicles', \r\n",
    "            17:'Veh > 3.5 tons prohibited', \r\n",
    "            18:'No entry', \r\n",
    "            19:'General caution', \r\n",
    "            20:'Dangerous curve left', \r\n",
    "            21:'Dangerous curve right', \r\n",
    "            22:'Double curve', \r\n",
    "            23:'Bumpy road', \r\n",
    "            24:'Slippery road', \r\n",
    "            25:'Road narrows on the right', \r\n",
    "            26:'Road work', \r\n",
    "            27:'Traffic signals', \r\n",
    "            28:'Pedestrians', \r\n",
    "            29:'Children crossing', \r\n",
    "            30:'Bicycles crossing', \r\n",
    "            31:'Beware of ice/snow',\r\n",
    "            32:'Wild animals crossing', \r\n",
    "            33:'End speed + passing limits', \r\n",
    "            34:'Turn right ahead', \r\n",
    "            35:'Turn left ahead', \r\n",
    "            36:'Ahead only', \r\n",
    "            37:'Go straight or right', \r\n",
    "            38:'Go straight or left', \r\n",
    "            39:'Keep right', \r\n",
    "            40:'Keep left', \r\n",
    "            41:'Roundabout mandatory', \r\n",
    "            42:'End of no passing', \r\n",
    "            43:'End no passing veh > 3.5 tons' }"
   ],
   "outputs": [],
   "metadata": {}
  },
  {
   "cell_type": "markdown",
   "source": [
    "# Initialising GUI"
   ],
   "metadata": {}
  },
  {
   "cell_type": "code",
   "execution_count": 4,
   "source": [
    "top=tk.Tk()\r\n",
    "top.geometry('800x600')\r\n",
    "top.title('Traffic sign classification')\r\n",
    "top.configure(background='#CDCDCD')\r\n",
    "label=Label(top,background='#CDCDCD', font=('arial',15,'bold'))\r\n",
    "sign_image = Label(top)\r\n",
    "def classify(file_path):\r\n",
    "    global label_packed\r\n",
    "    image = Image.open(file_path).convert('RGB')\r\n",
    "    image = image.resize((30,30))\r\n",
    "    image = numpy.expand_dims(image, axis=0)\r\n",
    "    image = numpy.array(image)\r\n",
    "    image = image.astype('float32')/255 \r\n",
    "    pred = model.predict_classes([image])[0]\r\n",
    "    sign = classes[pred+1]\r\n",
    "    print(sign)\r\n",
    "    label.configure(foreground='#011638', text=sign) \r\n",
    "def show_classify_button(file_path):\r\n",
    "    classify_b=Button(top,text=\"Classify Image\",command=lambda: classify(file_path),padx=10,pady=5)\r\n",
    "    classify_b.configure(background='#364156', foreground='white',font=('arial',10,'bold'))\r\n",
    "    classify_b.place(relx=0.79,rely=0.46)\r\n",
    "def upload_image():\r\n",
    "    try:\r\n",
    "        file_path=filedialog.askopenfilename()\r\n",
    "        uploaded=Image.open(file_path)\r\n",
    "        uploaded.thumbnail(((top.winfo_width()/2.25),(top.winfo_height()/2.25)))\r\n",
    "        im=ImageTk.PhotoImage(uploaded)\r\n",
    "        sign_image.configure(image=im)\r\n",
    "        sign_image.image=im\r\n",
    "        label.configure(text='')\r\n",
    "        show_classify_button(file_path)\r\n",
    "    except:\r\n",
    "        pass\r\n",
    "upload=Button(top,text=\"Upload an image\",command=upload_image,padx=10,pady=5)\r\n",
    "upload.configure(background='#364156', foreground='white',font=('arial',10,'bold'))\r\n",
    "upload.pack(side=BOTTOM,pady=50)\r\n",
    "sign_image.pack(side=BOTTOM,expand=True)\r\n",
    "label.pack(side=BOTTOM,expand=True)\r\n",
    "heading = Label(top, text=\"Know Your Traffic Sign\",pady=20, font=('arial',20,'bold'))\r\n",
    "heading.configure(background='#CDCDCD',foreground='#364156')\r\n",
    "heading.pack()\r\n",
    "top.mainloop()"
   ],
   "outputs": [
    {
     "output_type": "stream",
     "name": "stderr",
     "text": [
      "C:\\Users\\shiva\\anaconda3\\lib\\site-packages\\tensorflow\\python\\keras\\engine\\sequential.py:455: UserWarning: `model.predict_classes()` is deprecated and will be removed after 2021-01-01. Please use instead:* `np.argmax(model.predict(x), axis=-1)`,   if your model does multi-class classification   (e.g. if it uses a `softmax` last-layer activation).* `(model.predict(x) > 0.5).astype(\"int32\")`,   if your model does binary classification   (e.g. if it uses a `sigmoid` last-layer activation).\n",
      "  warnings.warn('`model.predict_classes()` is deprecated and '\n"
     ]
    },
    {
     "output_type": "stream",
     "name": "stdout",
     "text": [
      "Speed limit (50km/h)\n"
     ]
    }
   ],
   "metadata": {}
  }
 ]
}